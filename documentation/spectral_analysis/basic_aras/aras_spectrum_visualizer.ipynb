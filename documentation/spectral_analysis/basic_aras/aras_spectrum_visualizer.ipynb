{
 "cells": [
  {
   "cell_type": "markdown",
   "metadata": {},
   "source": [
    "## _ARAS Database Quick Spectra Visualizer_\n",
    "<img src=\"logo.gif\" width=\"150\" height=\"150\" align=\"left\"/>\n",
    "\n",
    "[The database](http://www.astrosurf.com/aras/Aras_DataBase/DataBase.htm)"
   ]
  },
  {
   "cell_type": "markdown",
   "metadata": {},
   "source": [
    "## _Packages and functions_"
   ]
  },
  {
   "cell_type": "markdown",
   "metadata": {},
   "source": [
    "_Some imports_\n",
    "This code mostly comes from ivandga github, all creadits belongs to him: https://github.com/ivandga/ArasSpectraNotebooks"
   ]
  },
  {
   "cell_type": "code",
   "execution_count": 42,
   "metadata": {},
   "outputs": [],
   "source": [
    "import astropy.constants as const\n",
    "from astropy.coordinates import SkyCoord, EarthLocation\n",
    "import astropy.io.fits as aif\n",
    "from astropy.time import Time\n",
    "import astropy.units as u\n",
    "import astropy.utils.data as aua\n",
    "\n",
    "\n",
    "import matplotlib.pyplot as pl\n",
    "import numpy as np\n",
    "import plotly.graph_objects as go"
   ]
  },
  {
   "cell_type": "markdown",
   "metadata": {},
   "source": [
    "_This method downloads the spectrum data, it takes the .fit file URL as parameter._"
   ]
  },
  {
   "cell_type": "code",
   "execution_count": 20,
   "metadata": {},
   "outputs": [],
   "source": [
    "def download_spectrum(link):\n",
    "    try:\n",
    "        hdul = aif.open(aua.download_file(link))\n",
    "        hdr = hdul[0].header\n",
    "        spectrum = hdul[0].data\n",
    "    except:\n",
    "        raise Exception(\"Broken file/link? {}\".format(link))\n",
    "        # For the record, we have:\n",
    "        # CRVAL1 / Coordinate at reference pixel                  \n",
    "        # CDELT1 / Coordinate increment\n",
    "        # CUNIT1 / Wavelength unit, usually 'Angstrom'\n",
    "        # BITPIX / Number of bits per data pixel (warn, sometimes put)\n",
    "        # NAXIS  / Number of data axes, usually 1\n",
    "        # NAXIS1 / Length of data axis 1, ie, number of bins\n",
    "    wavelengths = hdr[\"CDELT1\"] * np.arange(hdr[\"NAXIS1\"]) + hdr[\"CRVAL1\"]\n",
    "    data = {\"w\": wavelengths, \"f\": spectrum, \"date\": hdr[\"DATE-OBS\"], \"hdr\": hdr}\n",
    "    return data"
   ]
  },
  {
   "cell_type": "markdown",
   "metadata": {},
   "source": [
    "## Fits format in BeSS database\n",
    "For the record, here is the documentation for the FITS format to be used in BeSS database (in french), please also record a few guidelines:\n",
    "\n",
    "* Telluric bands should not be removed in the spectra, they may be useful for further analysis\n",
    "* Spectra should not be corrected for heliocentric speed, this can be done later on\n",
    "\n",
    "Here is the documentation:"
   ]
  },
  {
   "cell_type": "code",
   "execution_count": 21,
   "metadata": {},
   "outputs": [
    {
     "data": {
      "text/html": [
       "\n",
       "        <iframe\n",
       "            width=\"1000\"\n",
       "            height=\"400\"\n",
       "            src=\"Spec_spectres_BeSS_fr.pdf\"\n",
       "            frameborder=\"0\"\n",
       "            allowfullscreen\n",
       "        ></iframe>\n",
       "        "
      ],
      "text/plain": [
       "<IPython.lib.display.IFrame at 0x7fa6c533db70>"
      ]
     },
     "execution_count": 21,
     "metadata": {},
     "output_type": "execute_result"
    }
   ],
   "source": [
    "from IPython.display import IFrame, display\n",
    "filepath = \"Spec_spectres_BeSS_fr.pdf\"\n",
    "IFrame(filepath, width=1000, height=400)"
   ]
  },
  {
   "cell_type": "markdown",
   "metadata": {},
   "source": [
    "_Some other helpful methods_\n",
    "\n",
    "**calculate_velocity**: returns the velocity array (in km/s) with respect to a specific wavlength _wl_\n",
    "\n",
    "**linelabel**: simple text output with a specific wavelength _wl_\n",
    "\n",
    "**plot_line**: plots the normalised flux (normalised with respect to the maximum flux of the dataset) from a dataset (specified with the index _i_ with the respect to the data structure) against the velocity array, centered on a specific wavelength _wl_; _dobs_ and _labwl_ specificy if the label of the plotted curve will show the data of the observation and/or the wavelength; _alpha_ (0,1) specifies the transparency of the curve; _factor_ rescales the curve."
   ]
  },
  {
   "cell_type": "code",
   "execution_count": 22,
   "metadata": {},
   "outputs": [],
   "source": [
    "def calculate_velocity(wave, wavelength):\n",
    "    return 1e-3 * const.c * (wave - wavelength) / wavelength\n",
    "\n",
    "\n",
    "def linelabel(wl):\n",
    "    return \"{:.1f} $\\AA$\".format(wl)\n",
    "\n",
    "\n",
    "def plot_line(i, wl, dobs=False, labwl=False, alpha=1, factor=1):\n",
    "    vel = calculate_velocity(data[i][\"w\"], wl)\n",
    "    if dobs:\n",
    "        label_for_line = \"#{} - {}\".format(i, data[i][\"do\"])\n",
    "    if labwl:\n",
    "        label_for_line = \"#{} - {}\".format(i, linelabel(wl))\n",
    "    if labwl and dobs:\n",
    "        label_for_line = \"#{} - {} - {}\".format(i, linelabel(wl), data[i][\"do\"])\n",
    "    flux = data[i][\"f\"] / max(data[i][\"f\"])\n",
    "    pl.plot(vel, flux * factor, label=label_for_line, alpha=alpha)"
   ]
  },
  {
   "cell_type": "markdown",
   "metadata": {},
   "source": [
    "### _Define Aras fit URL and download the data_"
   ]
  },
  {
   "cell_type": "code",
   "execution_count": 23,
   "metadata": {},
   "outputs": [
    {
     "name": "stdout",
     "output_type": "stream",
     "text": [
      "Downloading http://www.astrosurf.com/aras/Aras_DataBase/Symbiotics/FitFiles/asdb_agdra_20190706_181.fit [Done]\n",
      "{'w': array([3710.75966176, 3712.05116176, 3713.34266176, ..., 7292.08916176,\n",
      "       7293.38066176, 7294.67216176]), 'f': array([0.15858218, 0.14295365, 0.15982904, ..., 1.0333956 , 1.0317265 ,\n",
      "       0.917077  ], dtype=float32), 'date': '2019-07-06T04:21:14', 'hdr': SIMPLE  =                    T / File does conform to FITS standard             \n",
      "BITPIX  =                  -32 / Number of bits per data pixel                  \n",
      "NAXIS   =                    1 / Number of data axes                            \n",
      "NAXIS1  =                 2776 / Length of data axis 1                          \n",
      "CRVAL1  =      3710.7596617635 / Coordinate at reference pixel                  \n",
      "CDELT1  =               1.2915 / Coordinate increment                           \n",
      "VERSION = 'ISIS V5.9.6'        / Software version                               \n",
      "OBJNAME = 'AG Dra  '           / Current name of the object                     \n",
      "DATE-OBS= '2019-07-06T04:21:14' / Date of observation start                     \n",
      "EXPTIME =                 2182 / [s] Total time of exposure                     \n",
      "EXPTIME2= '9 x 240 s'          / Exposure decomposition                         \n",
      "BSS_INST= 'CDK14 LISA Atik414ex' / Instrument                                   \n",
      "BSS_SITE= 'Desert Celestial Observatory' / Observation site                     \n",
      "BSS_ITRP=                 1048 / Typical resolving power                        \n",
      "OBSERVER= 'Forrest Sims'                                                        \n",
      "CUNIT1  = 'Angstrom'           / Wavelength unit                                \n",
      "CTYPE1  = 'Wavelength'         / Axis type                                      \n",
      "Q_CAL   = '0       '           / Quality flag 4-excellent                       \n",
      "CRPIX1  =                    1 / Reference pixel                                \n",
      "BSS_VHEL=                    0 / [km/s] Heliocentric speed                      \n",
      "BSS_COSM= 'Removed '                                                            \n",
      "BSS_TELL= 'None    '                                                            \n",
      "BSS_NORM= 'None    '                                                            \n",
      "SPE_RPOW=                 1048 / Spectral resolution power                      \n",
      "JD-OBS  =         2458670.6814 / JD start observation                           \n",
      "JD-MID  =          2458670.694 / JD mid observation                             \n",
      "JD-HEL  =                    0 / JD heliocentric mid-obs                        \n",
      "GEO_LONG=           111.802777 / Obs. geographic longitude                      \n",
      "GEO_LAT =           33.3672222 / Obs. geographic latitude                       \n",
      "GEO_ELEV=                  380 / Obs. geographic elevation                      }\n"
     ]
    }
   ],
   "source": [
    "link_spectrum = \"http://www.astrosurf.com/aras/Aras_DataBase/Symbiotics/FitFiles/asdb_agdra_20190706_181.fit\"\n",
    "data = download_spectrum(link_spectrum)\n",
    "print(data)"
   ]
  },
  {
   "cell_type": "markdown",
   "metadata": {},
   "source": [
    "## _Define wavelength interval_"
   ]
  },
  {
   "cell_type": "code",
   "execution_count": 24,
   "metadata": {},
   "outputs": [],
   "source": [
    "xmin = data[\"w\"].min()  # or a number\n",
    "xmax = data[\"w\"].max()  # or a number"
   ]
  },
  {
   "cell_type": "markdown",
   "metadata": {},
   "source": [
    "_Plotting the stuff with matplotlib_"
   ]
  },
  {
   "cell_type": "code",
   "execution_count": 25,
   "metadata": {},
   "outputs": [
    {
     "data": {
      "text/plain": [
       "[<matplotlib.lines.Line2D at 0x7fa6c535ae80>]"
      ]
     },
     "execution_count": 25,
     "metadata": {},
     "output_type": "execute_result"
    },
    {
     "data": {
      "image/png": "[encoded data removed]",
      "text/plain": [
       "<Figure size 936x504 with 1 Axes>"
      ]
     },
     "metadata": {
      "needs_background": "light"
     },
     "output_type": "display_data"
    }
   ],
   "source": [
    "pl.figure(0, figsize=(13, 7))\n",
    "pl.xlabel(\"Wavelength [A]\")\n",
    "pl.ylabel(\"Flux [a.u.]\")\n",
    "pl.title(\n",
    "    \"{} - {} - Observer: {}\".format(\n",
    "        data[\"hdr\"][\"OBJNAME\"], data[\"date\"], data[\"hdr\"][\"OBSERVER\"]\n",
    "    )\n",
    ")\n",
    "pl.xlim(xmin, xmax)\n",
    "pl.plot(data[\"w\"], data[\"f\"])"
   ]
  },
  {
   "cell_type": "markdown",
   "metadata": {},
   "source": [
    "_Plotting with plotly, an interactive graphic library_"
   ]
  },
  {
   "cell_type": "code",
   "execution_count": 29,
   "metadata": {},
   "outputs": [],
   "source": [
    "#fig = go.Figure(data=go.Scatter(x=data[\"w\"], y=data[\"f\"]))\n",
    "#fig.update_layout(\n",
    "#    title=\"{} - {} - Observer: {}\".format(\n",
    "#        data[\"hdr\"][\"OBJNAME\"], data[\"date\"], data[\"hdr\"][\"OBSERVER\"]\n",
    "#    )\n",
    "#)\n",
    "#fig.update_xaxes(title_text=\"Wavelength [A]\")\n",
    "#fig.update_yaxes(title_text=\"Flux [a.u.]\")\n",
    "#fig.show()"
   ]
  },
  {
   "cell_type": "markdown",
   "metadata": {},
   "source": [
    "# Analyzing further the spectra\n",
    "\n",
    "## Correcting for radial velocity\n",
    "See here for the documentation: https://docs.astropy.org/en/stable/coordinates/velocities.html#radial-velocity-corrections\n",
    "\n"
   ]
  },
  {
   "cell_type": "code",
   "execution_count": 53,
   "metadata": {},
   "outputs": [
    {
     "name": "stdout",
     "output_type": "stream",
     "text": [
      "barycentric radial velocity correction is -5.076870270337843 km / s\n",
      "heliocentric radial velocity correction is -5.084586319452631 km / s\n"
     ]
    }
   ],
   "source": [
    "#To account for the radial velocity, we will need the following informations from the fits header\n",
    "# DATE-OBS / Date of observation start format is like '2019-07-06T04:21:14' \n",
    "# GEO_LONG / Obs. geographic longitude, format is like 111.802777\n",
    "# GEO_LAT / Obs. geographic latitude, format is like 33.3672222\n",
    "# GEO_ELEV / Obs. geographic elevation, in m ? format is like 380\n",
    "# OBJNAME / Current name of the object format is like 'AG Dra  '\n",
    "\n",
    "\n",
    "location = EarthLocation.from_geodetic(lat=data['hdr'][\"GEO_LAT\"]*u.deg,\n",
    "                                       lon=data['hdr'][\"GEO_LONG\"]*u.deg,\n",
    "                                       height=data['hdr'][\"GEO_ELEV\"]*u.m)\n",
    "#sc = SkyCoord(ra=4.88375*u.deg, dec=35.0436389*u.deg)\n",
    "sc = SkyCoord.from_name(data['hdr'][\"OBJNAME\"])\n",
    "ot = Time(data['hdr'][\"DATE-OBS\"])\n",
    "\n",
    "#barycentric radial velocity correction\n",
    "barycorr = sc.radial_velocity_correction(obstime=ot, location=location)\n",
    "print(\"barycentric radial velocity correction is {}\".format(barycorr.to(u.km/u.s)))\n",
    "\n",
    "#heliocentric radial velocity correction\n",
    "heliocorr = sc.radial_velocity_correction('heliocentric', obstime=ot, location=location)\n",
    "print(\"heliocentric radial velocity correction is {}\".format(heliocorr.to(u.km/u.s)))\n"
   ]
  },
  {
   "cell_type": "code",
   "execution_count": 45,
   "metadata": {},
   "outputs": [
    {
     "data": {
      "text/plain": [
       "<SkyCoord (ICRS): (ra, dec) in deg\n",
       "    (240.4208857, 66.80281422)>"
      ]
     },
     "execution_count": 45,
     "metadata": {},
     "output_type": "execute_result"
    }
   ],
   "source": []
  },
  {
   "cell_type": "code",
   "execution_count": null,
   "metadata": {},
   "outputs": [],
   "source": []
  },
  {
   "cell_type": "code",
   "execution_count": null,
   "metadata": {},
   "outputs": [],
   "source": []
  }
 ],
 "metadata": {
  "kernelspec": {
   "display_name": "Python 3",
   "language": "python",
   "name": "python3"
  },
  "language_info": {
   "codemirror_mode": {
    "name": "ipython",
    "version": 3
   },
   "file_extension": ".py",
   "mimetype": "text/x-python",
   "name": "python",
   "nbconvert_exporter": "python",
   "pygments_lexer": "ipython3",
   "version": "3.6.6"
  }
 },
 "nbformat": 4,
 "nbformat_minor": 2
}
